{
 "cells": [
  {
   "cell_type": "code",
   "execution_count": 1,
   "id": "c1ec3d51",
   "metadata": {},
   "outputs": [],
   "source": [
    "from pyspark.sql import SparkSession\n",
    "from math import radians, cos, sin, asin, sqrt\n",
    "import pandas as pd\n",
    "from pyspark.sql.functions import col, udf\n",
    "from pyspark.sql.types import FloatType\n",
    "import os\n",
    "import sys\n",
    "import matplotlib.pyplot as plt"
   ]
  },
  {
   "cell_type": "code",
   "execution_count": 2,
   "id": "abb40562",
   "metadata": {},
   "outputs": [],
   "source": [
    "# Sets up the spark session and has magic code that makes things not break\n",
    "os.environ['PYSPARK_PYTHON'] = sys.executable\n",
    "os.environ['PYSPARK_DRIVER_PYTHON'] = sys.executable\n",
    "spark = SparkSession.builder.appName('hw5').getOrCreate()"
   ]
  },
  {
   "cell_type": "code",
   "execution_count": 3,
   "id": "259c44b7",
   "metadata": {},
   "outputs": [],
   "source": [
    "# Creates a haversine function\n",
    "def haversine(lat1, lon1, lat2, lon2):\n",
    "    \"\"\"\n",
    "    Calculate the great circle distance in kilometers between two points \n",
    "    on the earth (specified in decimal degrees)\n",
    "    \"\"\"\n",
    "    # convert decimal degrees to radians \n",
    "    lon1, lat1, lon2, lat2 = map(radians, [lon1, lat1, lon2, lat2])\n",
    "\n",
    "    # haversine formula \n",
    "    dlon = lon2 - lon1 \n",
    "    dlat = lat2 - lat1 \n",
    "    a = sin(dlat/2)**2 + cos(lat1) * cos(lat2) * sin(dlon/2)**2\n",
    "    c = 2 * asin(sqrt(a)) \n",
    "    r = 6371 # Radius of earth in kilometers. Use 3956 for miles. Determines return value units.\n",
    "    return c * r\n",
    "\n",
    "# Initiailizes the udf version of the haversine function\n",
    "haversineUDF = udf(lambda x, y: haversine(28.396837, -80.605659, x, y), FloatType())"
   ]
  },
  {
   "cell_type": "code",
   "execution_count": 4,
   "id": "8a9538d5",
   "metadata": {},
   "outputs": [],
   "source": [
    "# Loads the stations from the csv\n",
    "stations = spark.read.csv('stations.csv', header=False, inferSchema=True).withColumnRenamed(\"_c0\", \"StationID\").withColumnRenamed(\"_c1\", \"WBANID\").withColumnRenamed(\"_c2\", \"GPSLatitude\").withColumnRenamed(\"_c3\", \"GPSLongitude\")\n",
    "\n",
    "# Creates a df with the distance from Cape Canaveral using the haversine function\n",
    "stations = stations.withColumn(\"distance\", haversineUDF(stations.GPSLatitude, stations.GPSLongitude))"
   ]
  },
  {
   "cell_type": "code",
   "execution_count": 5,
   "id": "67edc7af",
   "metadata": {},
   "outputs": [],
   "source": [
    "stations.createOrReplaceTempView('stations')"
   ]
  },
  {
   "cell_type": "code",
   "execution_count": 6,
   "id": "ab23db1b",
   "metadata": {},
   "outputs": [
    {
     "name": "stdout",
     "output_type": "stream",
     "text": [
      "+---------+------+-----------+------------+---------+\n",
      "|StationID|WBANID|GPSLatitude|GPSLongitude| distance|\n",
      "+---------+------+-----------+------------+---------+\n",
      "|   722050| 12815|     28.434|     -81.325| 70.47143|\n",
      "|   722053| 12841|     28.545|     -81.333| 72.97912|\n",
      "|   747946| 12886|     28.617|     -80.683|25.620928|\n",
      "|   747950| 12867|     28.233|       -80.6|18.226263|\n",
      "|   722040| 12838|     28.101|     -80.644|33.109257|\n",
      "|   749047|  null|     28.283|     -81.416|    80.31|\n",
      "|   997806|  null|       28.4|     -80.533|7.1157584|\n",
      "|   720904|   299|     29.067|     -81.283| 99.57265|\n",
      "|   722056| 12834|     29.183|     -81.048| 97.46734|\n",
      "|   722051| 12841|     28.545|     -81.333| 72.97912|\n",
      "|   747945|  null|     28.617|       -80.7|  26.1591|\n",
      "|   998275|  null|     28.017|     -80.683|  42.9105|\n",
      "|   747870| 12834|     29.183|     -81.048| 97.46734|\n",
      "|   997354|  null|      28.42|      -80.58|3.5960674|\n",
      "|   995450|  null|     28.519|     -80.166| 45.07606|\n",
      "|   722046| 12898|     28.517|       -80.8|23.226759|\n",
      "|   747940| 12868|     28.483|     -80.567|10.299568|\n",
      "|   722058|  null|      29.07|      -80.92|80.883995|\n",
      "|   722361| 92808|     29.054|     -80.948| 80.33688|\n",
      "|   722011| 92813|      28.29|     -81.437| 82.22145|\n",
      "+---------+------+-----------+------------+---------+\n",
      "only showing top 20 rows\n",
      "\n"
     ]
    }
   ],
   "source": [
    "# Removes stations that have null coordinates or IDs, removes stations that are more than 100km away from Cape Canaveral\n",
    "# and drops duplicates\n",
    "stations = spark.sql(\"\"\"\n",
    "    SELECT * FROM STATIONS\n",
    "    WHERE GPSLatitude != 0 AND GPSLongitude != 0 AND distance <= 100 AND StationID IS NOT NULL\n",
    "\"\"\")\n",
    "stations = stations.dropDuplicates([\"StationID\"])\n",
    "stations.show()"
   ]
  },
  {
   "cell_type": "code",
   "execution_count": 7,
   "id": "2e6cc113",
   "metadata": {},
   "outputs": [
    {
     "name": "stdout",
     "output_type": "stream",
     "text": [
      "+---------+------+-----+---+----+\n",
      "|StationID|WBANID|Month|Day|temp|\n",
      "+---------+------+-----+---+----+\n",
      "|    10010|  null|    1|  1|17.2|\n",
      "|    10010|  null|    1|  2|12.1|\n",
      "|    10010|  null|    1|  3|10.4|\n",
      "|    10010|  null|    1|  4|17.4|\n",
      "|    10010|  null|    1|  5|26.5|\n",
      "|    10010|  null|    1|  6|30.1|\n",
      "|    10010|  null|    1|  7|29.7|\n",
      "|    10010|  null|    1|  8|29.6|\n",
      "|    10010|  null|    1|  9|29.6|\n",
      "|    10010|  null|    1| 10|33.0|\n",
      "|    10010|  null|    1| 11|32.5|\n",
      "|    10010|  null|    1| 12|27.4|\n",
      "|    10010|  null|    1| 13|22.2|\n",
      "|    10010|  null|    1| 14|11.3|\n",
      "|    10010|  null|    1| 15| 2.5|\n",
      "|    10010|  null|    1| 16| 3.0|\n",
      "|    10010|  null|    1| 17|13.4|\n",
      "|    10010|  null|    1| 18|29.8|\n",
      "|    10010|  null|    1| 19|27.5|\n",
      "|    10010|  null|    1| 20|25.2|\n",
      "+---------+------+-----+---+----+\n",
      "only showing top 20 rows\n",
      "\n"
     ]
    }
   ],
   "source": [
    "data_1986 = spark.read.csv('1986.csv', header=False, inferSchema=True).withColumnRenamed(\"_c0\", \"StationID\").withColumnRenamed(\"_c1\", \"WBANID\").withColumnRenamed(\"_c2\", \"Month\").withColumnRenamed(\"_c3\", \"Day\").withColumnRenamed(\"_c4\", \"temp\")\n",
    "data_1986.show()"
   ]
  },
  {
   "cell_type": "code",
   "execution_count": 8,
   "id": "85ff4973",
   "metadata": {},
   "outputs": [],
   "source": [
    "data_1986.createOrReplaceTempView('_1986')"
   ]
  },
  {
   "cell_type": "code",
   "execution_count": 9,
   "id": "e8fbb3be",
   "metadata": {},
   "outputs": [
    {
     "name": "stdout",
     "output_type": "stream",
     "text": [
      "+---------+------+-----+---+----+\n",
      "|StationID|WBANID|Month|Day|temp|\n",
      "+---------+------+-----+---+----+\n",
      "|    10010|  null|    1| 28|14.1|\n",
      "|    10080|  null|    1| 28|32.3|\n",
      "|    10100|  null|    1| 28|30.9|\n",
      "|    10230|  null|    1| 28|27.2|\n",
      "|    10250|  null|    1| 28|32.5|\n",
      "|    10280|  null|    1| 28|33.0|\n",
      "|    10330|  null|    1| 28|34.0|\n",
      "|    10350|  null|    1| 28|31.0|\n",
      "|    10470|  null|    1| 28|22.1|\n",
      "|    10490|  null|    1| 28|30.7|\n",
      "|    10520|  null|    1| 28|29.9|\n",
      "|    10530|  null|    1| 28|29.8|\n",
      "|    10550|  null|    1| 28|31.6|\n",
      "|    10590|  null|    1| 28|29.2|\n",
      "|    10620|  null|    1| 28|30.5|\n",
      "|    10630|  null|    1| 28|28.2|\n",
      "|    10650|  null|    1| 28|26.1|\n",
      "|    10680|  null|    1| 28|31.8|\n",
      "|    10740|  null|    1| 28|28.5|\n",
      "|    10780|  null|    1| 28|30.4|\n",
      "+---------+------+-----+---+----+\n",
      "only showing top 20 rows\n",
      "\n"
     ]
    }
   ],
   "source": [
    "jan28 = spark.sql(\"\"\"\n",
    "    SELECT * FROM _1986\n",
    "    WHERE Month == 1 AND Day == 28\n",
    "\"\"\")\n",
    "jan28.show()\n",
    "jan28.createOrReplaceTempView('jan28')"
   ]
  },
  {
   "cell_type": "code",
   "execution_count": 10,
   "id": "89786b2f",
   "metadata": {},
   "outputs": [
    {
     "data": {
      "text/plain": [
       "[Table(name='_1986', database=None, description=None, tableType='TEMPORARY', isTemporary=True),\n",
       " Table(name='jan28', database=None, description=None, tableType='TEMPORARY', isTemporary=True),\n",
       " Table(name='stations', database=None, description=None, tableType='TEMPORARY', isTemporary=True)]"
      ]
     },
     "execution_count": 10,
     "metadata": {},
     "output_type": "execute_result"
    }
   ],
   "source": [
    "spark.catalog.listTables()"
   ]
  },
  {
   "cell_type": "code",
   "execution_count": 11,
   "id": "d8195729",
   "metadata": {},
   "outputs": [
    {
     "name": "stdout",
     "output_type": "stream",
     "text": [
      "+---------+---------+----+\n",
      "|StationID| distance|temp|\n",
      "+---------+---------+----+\n",
      "|   722040|33.109257|33.7|\n",
      "|   722045| 90.04572|37.5|\n",
      "|   722046|23.226759|37.0|\n",
      "|   722050| 70.47143|34.7|\n",
      "|   722051| 72.97912|15.3|\n",
      "|   722056| 97.46734|31.8|\n",
      "|   722057| 75.49695|33.4|\n",
      "|   747945|  26.1591|33.7|\n",
      "|   747950|18.226263|39.6|\n",
      "+---------+---------+----+\n",
      "\n"
     ]
    }
   ],
   "source": [
    "jan28_join = stations.join(jan28, stations.StationID == jan28.StationID, \"inner\").select(stations.StationID, stations.distance, jan28.temp)\n",
    "jan28_join.createOrReplaceTempView('jan28_join')\n",
    "jan28_join.show()"
   ]
  },
  {
   "cell_type": "code",
   "execution_count": 12,
   "id": "c3979a69",
   "metadata": {},
   "outputs": [],
   "source": [
    "# ((12/350) + (10/750) + (10/850)) / ((1/350) + (1/750) + (1/850))\n",
    "def idw_temp_est(distances, temps):\n",
    "    inv_dists = [1/dist for dist in distances]\n",
    "    temp_dist = [temp/dist for temp, dist in (temps, distances)]\n",
    "    \n",
    "    num = sum(temp_dist)\n",
    "    denom = sum(inv_dists)\n",
    "    \n",
    "    return num/denom"
   ]
  },
  {
   "cell_type": "code",
   "execution_count": 13,
   "id": "ebc3e9a7",
   "metadata": {},
   "outputs": [],
   "source": [
    "def inv_dist(x):\n",
    "    return 1/x\n",
    "\n",
    "def temp_inv_dist(inv_dist, temp):\n",
    "    return temp * inv_dist"
   ]
  },
  {
   "cell_type": "code",
   "execution_count": 14,
   "id": "b51821f2",
   "metadata": {},
   "outputs": [],
   "source": [
    "jan28_join = jan28_join.withColumn(\"inv_dist\", inv_dist(jan28_join.distance))\n",
    "jan28_join = jan28_join.withColumn(\"temp_dist\",temp_inv_dist(jan28_join.inv_dist,jan28_join.temp))"
   ]
  },
  {
   "cell_type": "code",
   "execution_count": 15,
   "id": "6b8665e1",
   "metadata": {},
   "outputs": [],
   "source": [
    "from pyspark.sql.functions import sum\n",
    "calc_table = jan28_join.select(sum(jan28_join.inv_dist).alias(\"inv_dist_sum\"),\n",
    "                  sum(jan28_join.temp_dist).alias('temp_dist_sum'))\n",
    "\n",
    "calc_table = calc_table.withColumn(\"temp_estimate\", calc_table.temp_dist_sum/calc_table.inv_dist_sum)"
   ]
  },
  {
   "cell_type": "markdown",
   "id": "7c699416",
   "metadata": {},
   "source": [
    "### Question 4 Result: Temp Estimate for Jan28th"
   ]
  },
  {
   "cell_type": "code",
   "execution_count": 16,
   "id": "1aa44b21",
   "metadata": {},
   "outputs": [
    {
     "name": "stdout",
     "output_type": "stream",
     "text": [
      "+-------------------+-----------------+------------------+\n",
      "|       inv_dist_sum|    temp_dist_sum|     temp_estimate|\n",
      "+-------------------+-----------------+------------------+\n",
      "|0.22885390402133945|7.958959412036556|34.777468385658054|\n",
      "+-------------------+-----------------+------------------+\n",
      "\n"
     ]
    }
   ],
   "source": [
    "calc_table.show()"
   ]
  },
  {
   "cell_type": "code",
   "execution_count": 17,
   "id": "099c1c10",
   "metadata": {},
   "outputs": [
    {
     "name": "stdout",
     "output_type": "stream",
     "text": [
      "+---------+------+-----+---+----+\n",
      "|StationID|WBANID|Month|Day|temp|\n",
      "+---------+------+-----+---+----+\n",
      "|    10010|  null|    1|  1|17.2|\n",
      "|    10010|  null|    1|  2|12.1|\n",
      "|    10010|  null|    1|  3|10.4|\n",
      "|    10010|  null|    1|  4|17.4|\n",
      "|    10010|  null|    1|  5|26.5|\n",
      "|    10010|  null|    1|  6|30.1|\n",
      "|    10010|  null|    1|  7|29.7|\n",
      "|    10010|  null|    1|  8|29.6|\n",
      "|    10010|  null|    1|  9|29.6|\n",
      "|    10010|  null|    1| 10|33.0|\n",
      "|    10010|  null|    1| 11|32.5|\n",
      "|    10010|  null|    1| 12|27.4|\n",
      "|    10010|  null|    1| 13|22.2|\n",
      "|    10010|  null|    1| 14|11.3|\n",
      "|    10010|  null|    1| 15| 2.5|\n",
      "|    10010|  null|    1| 16| 3.0|\n",
      "|    10010|  null|    1| 17|13.4|\n",
      "|    10010|  null|    1| 18|29.8|\n",
      "|    10010|  null|    1| 19|27.5|\n",
      "|    10010|  null|    1| 20|25.2|\n",
      "+---------+------+-----+---+----+\n",
      "only showing top 20 rows\n",
      "\n"
     ]
    }
   ],
   "source": [
    "# Part 5, we want all days in january so we use month == 1 in our select statement\n",
    "\n",
    "jan_1986 = spark.sql(\"\"\"\n",
    "    SELECT * FROM _1986\n",
    "    WHERE Month == 1\n",
    "\"\"\")\n",
    "jan_1986.createOrReplaceTempView('jan_1986')"
   ]
  },
  {
   "cell_type": "code",
   "execution_count": 20,
   "id": "a24c48c9",
   "metadata": {
    "scrolled": true
   },
   "outputs": [
    {
     "name": "stdout",
     "output_type": "stream",
     "text": [
      "+---------+---+---------+----+\n",
      "|StationID|Day| distance|temp|\n",
      "+---------+---+---------+----+\n",
      "|   722040|  1|33.109257|65.0|\n",
      "|   722040|  2|33.109257|67.1|\n",
      "|   722040|  3|33.109257|64.5|\n",
      "|   722040|  4|33.109257|67.6|\n",
      "|   722040|  5|33.109257|63.0|\n",
      "|   722040|  6|33.109257|51.0|\n",
      "|   722040|  7|33.109257|64.1|\n",
      "|   722040|  8|33.109257|63.5|\n",
      "|   722040|  9|33.109257|65.3|\n",
      "|   722040| 10|33.109257|68.7|\n",
      "|   722040| 11|33.109257|63.1|\n",
      "|   722040| 12|33.109257|56.0|\n",
      "|   722040| 13|33.109257|54.9|\n",
      "|   722040| 14|33.109257|49.6|\n",
      "|   722040| 15|33.109257|50.4|\n",
      "|   722040| 16|33.109257|57.0|\n",
      "|   722040| 17|33.109257|66.6|\n",
      "|   722040| 18|33.109257|63.4|\n",
      "|   722040| 19|33.109257|65.7|\n",
      "|   722040| 20|33.109257|57.9|\n",
      "+---------+---+---------+----+\n",
      "only showing top 20 rows\n",
      "\n"
     ]
    }
   ],
   "source": [
    "# Like part 4 use a join statement to get the temperature for each station as well as the Day\n",
    "jan1986_join = stations.join(jan_1986, stations.StationID == jan28.StationID, \"inner\") \\\n",
    ".select(stations.StationID, jan_1986.Day, stations.distance, jan28.temp)\n",
    "jan1986_join.show()\n",
    "jan1986_join.createOrReplaceTempView('jan1986_join')\n"
   ]
  },
  {
   "cell_type": "code",
   "execution_count": 57,
   "id": "e7110a8a",
   "metadata": {},
   "outputs": [],
   "source": [
    "# similar to 4 where we want to apply our functions for getting inv distance\n",
    "jan1986_join = jan1986_join.withColumn(\"inv_dist\", inv_dist(jan1986_join.distance))\n",
    "jan1986_join = jan1986_join.withColumn(\"temp_dist\",temp_inv_dist(jan1986_join.inv_dist,jan1986_join.temp))"
   ]
  },
  {
   "cell_type": "code",
   "execution_count": 44,
   "id": "e3d1ca48",
   "metadata": {},
   "outputs": [],
   "source": [
    "# we want to group by Day, so that we can get a temperature estimate for each day in January\n",
    "grouped_df = jan1986_join.groupBy('Day').sum('inv_dist', 'temp_dist')\n",
    "# Rename cols\n",
    "grouped_df = grouped_df.withColumnRenamed(\"sum(inv_dist)\", \"inv_dist\").withColumnRenamed(\"sum(temp_dist)\", \"temp_dist\")\n",
    "# similar to 4, divide to get estimate\n",
    "grouped_df = grouped_df.withColumn(\"temp_estimate\", grouped_df.temp_dist/grouped_df.inv_dist) \n",
    "grouped_df = grouped_df.orderBy(grouped_df.Day)"
   ]
  },
  {
   "cell_type": "code",
   "execution_count": 48,
   "id": "16390b2d",
   "metadata": {},
   "outputs": [],
   "source": [
    "days = grouped_df.rdd.map(lambda x: x.Day).collect()\n",
    "temp_estimates = grouped_df.rdd.map(lambda x: x.temp_estimate).collect()"
   ]
  },
  {
   "cell_type": "code",
   "execution_count": 59,
   "id": "1569d603",
   "metadata": {},
   "outputs": [
    {
     "data": {
      "application/vnd.plotly.v1+json": {
       "config": {
        "plotlyServerURL": "https://plot.ly"
       },
       "data": [
        {
         "hovertemplate": "x=%{x}<br>y=%{y}<extra></extra>",
         "legendgroup": "",
         "line": {
          "color": "#636efa",
          "dash": "solid"
         },
         "marker": {
          "symbol": "circle"
         },
         "mode": "lines",
         "name": "",
         "orientation": "v",
         "showlegend": false,
         "type": "scatter",
         "x": [
          1,
          2,
          3,
          4,
          5,
          6,
          7,
          8,
          9,
          10,
          11,
          12,
          13,
          14,
          15,
          16,
          17,
          18,
          19,
          20,
          21,
          22,
          23,
          24,
          25,
          26,
          27,
          28,
          29,
          30,
          31
         ],
         "xaxis": "x",
         "y": [
          61.89328148586739,
          64.23040542769473,
          62.449681382668594,
          65.34929844909566,
          59.97416204422411,
          51.83774267312879,
          60.61928299277055,
          60.523754626444216,
          62.44409843553341,
          65.3413061440196,
          58.428834566857844,
          56.079954086607465,
          54.13317387846227,
          49.7331686594772,
          51.76669601539662,
          56.50259100354322,
          63.27734258467066,
          62.23778384337599,
          63.93618880542978,
          57.270545595430626,
          54.22652644515514,
          58.2373412002297,
          59.72859216946998,
          58.544925073713266,
          60.41278536093727,
          57.73251017127417,
          45.93031272730544,
          34.777468385658054,
          44.01690992843571,
          53.20340490141309,
          55.916618161688845
         ],
         "yaxis": "y"
        }
       ],
       "layout": {
        "legend": {
         "tracegroupgap": 0
        },
        "margin": {
         "t": 60
        },
        "template": {
         "data": {
          "bar": [
           {
            "error_x": {
             "color": "#2a3f5f"
            },
            "error_y": {
             "color": "#2a3f5f"
            },
            "marker": {
             "line": {
              "color": "#E5ECF6",
              "width": 0.5
             },
             "pattern": {
              "fillmode": "overlay",
              "size": 10,
              "solidity": 0.2
             }
            },
            "type": "bar"
           }
          ],
          "barpolar": [
           {
            "marker": {
             "line": {
              "color": "#E5ECF6",
              "width": 0.5
             },
             "pattern": {
              "fillmode": "overlay",
              "size": 10,
              "solidity": 0.2
             }
            },
            "type": "barpolar"
           }
          ],
          "carpet": [
           {
            "aaxis": {
             "endlinecolor": "#2a3f5f",
             "gridcolor": "white",
             "linecolor": "white",
             "minorgridcolor": "white",
             "startlinecolor": "#2a3f5f"
            },
            "baxis": {
             "endlinecolor": "#2a3f5f",
             "gridcolor": "white",
             "linecolor": "white",
             "minorgridcolor": "white",
             "startlinecolor": "#2a3f5f"
            },
            "type": "carpet"
           }
          ],
          "choropleth": [
           {
            "colorbar": {
             "outlinewidth": 0,
             "ticks": ""
            },
            "type": "choropleth"
           }
          ],
          "contour": [
           {
            "colorbar": {
             "outlinewidth": 0,
             "ticks": ""
            },
            "colorscale": [
             [
              0,
              "#0d0887"
             ],
             [
              0.1111111111111111,
              "#46039f"
             ],
             [
              0.2222222222222222,
              "#7201a8"
             ],
             [
              0.3333333333333333,
              "#9c179e"
             ],
             [
              0.4444444444444444,
              "#bd3786"
             ],
             [
              0.5555555555555556,
              "#d8576b"
             ],
             [
              0.6666666666666666,
              "#ed7953"
             ],
             [
              0.7777777777777778,
              "#fb9f3a"
             ],
             [
              0.8888888888888888,
              "#fdca26"
             ],
             [
              1,
              "#f0f921"
             ]
            ],
            "type": "contour"
           }
          ],
          "contourcarpet": [
           {
            "colorbar": {
             "outlinewidth": 0,
             "ticks": ""
            },
            "type": "contourcarpet"
           }
          ],
          "heatmap": [
           {
            "colorbar": {
             "outlinewidth": 0,
             "ticks": ""
            },
            "colorscale": [
             [
              0,
              "#0d0887"
             ],
             [
              0.1111111111111111,
              "#46039f"
             ],
             [
              0.2222222222222222,
              "#7201a8"
             ],
             [
              0.3333333333333333,
              "#9c179e"
             ],
             [
              0.4444444444444444,
              "#bd3786"
             ],
             [
              0.5555555555555556,
              "#d8576b"
             ],
             [
              0.6666666666666666,
              "#ed7953"
             ],
             [
              0.7777777777777778,
              "#fb9f3a"
             ],
             [
              0.8888888888888888,
              "#fdca26"
             ],
             [
              1,
              "#f0f921"
             ]
            ],
            "type": "heatmap"
           }
          ],
          "heatmapgl": [
           {
            "colorbar": {
             "outlinewidth": 0,
             "ticks": ""
            },
            "colorscale": [
             [
              0,
              "#0d0887"
             ],
             [
              0.1111111111111111,
              "#46039f"
             ],
             [
              0.2222222222222222,
              "#7201a8"
             ],
             [
              0.3333333333333333,
              "#9c179e"
             ],
             [
              0.4444444444444444,
              "#bd3786"
             ],
             [
              0.5555555555555556,
              "#d8576b"
             ],
             [
              0.6666666666666666,
              "#ed7953"
             ],
             [
              0.7777777777777778,
              "#fb9f3a"
             ],
             [
              0.8888888888888888,
              "#fdca26"
             ],
             [
              1,
              "#f0f921"
             ]
            ],
            "type": "heatmapgl"
           }
          ],
          "histogram": [
           {
            "marker": {
             "pattern": {
              "fillmode": "overlay",
              "size": 10,
              "solidity": 0.2
             }
            },
            "type": "histogram"
           }
          ],
          "histogram2d": [
           {
            "colorbar": {
             "outlinewidth": 0,
             "ticks": ""
            },
            "colorscale": [
             [
              0,
              "#0d0887"
             ],
             [
              0.1111111111111111,
              "#46039f"
             ],
             [
              0.2222222222222222,
              "#7201a8"
             ],
             [
              0.3333333333333333,
              "#9c179e"
             ],
             [
              0.4444444444444444,
              "#bd3786"
             ],
             [
              0.5555555555555556,
              "#d8576b"
             ],
             [
              0.6666666666666666,
              "#ed7953"
             ],
             [
              0.7777777777777778,
              "#fb9f3a"
             ],
             [
              0.8888888888888888,
              "#fdca26"
             ],
             [
              1,
              "#f0f921"
             ]
            ],
            "type": "histogram2d"
           }
          ],
          "histogram2dcontour": [
           {
            "colorbar": {
             "outlinewidth": 0,
             "ticks": ""
            },
            "colorscale": [
             [
              0,
              "#0d0887"
             ],
             [
              0.1111111111111111,
              "#46039f"
             ],
             [
              0.2222222222222222,
              "#7201a8"
             ],
             [
              0.3333333333333333,
              "#9c179e"
             ],
             [
              0.4444444444444444,
              "#bd3786"
             ],
             [
              0.5555555555555556,
              "#d8576b"
             ],
             [
              0.6666666666666666,
              "#ed7953"
             ],
             [
              0.7777777777777778,
              "#fb9f3a"
             ],
             [
              0.8888888888888888,
              "#fdca26"
             ],
             [
              1,
              "#f0f921"
             ]
            ],
            "type": "histogram2dcontour"
           }
          ],
          "mesh3d": [
           {
            "colorbar": {
             "outlinewidth": 0,
             "ticks": ""
            },
            "type": "mesh3d"
           }
          ],
          "parcoords": [
           {
            "line": {
             "colorbar": {
              "outlinewidth": 0,
              "ticks": ""
             }
            },
            "type": "parcoords"
           }
          ],
          "pie": [
           {
            "automargin": true,
            "type": "pie"
           }
          ],
          "scatter": [
           {
            "marker": {
             "colorbar": {
              "outlinewidth": 0,
              "ticks": ""
             }
            },
            "type": "scatter"
           }
          ],
          "scatter3d": [
           {
            "line": {
             "colorbar": {
              "outlinewidth": 0,
              "ticks": ""
             }
            },
            "marker": {
             "colorbar": {
              "outlinewidth": 0,
              "ticks": ""
             }
            },
            "type": "scatter3d"
           }
          ],
          "scattercarpet": [
           {
            "marker": {
             "colorbar": {
              "outlinewidth": 0,
              "ticks": ""
             }
            },
            "type": "scattercarpet"
           }
          ],
          "scattergeo": [
           {
            "marker": {
             "colorbar": {
              "outlinewidth": 0,
              "ticks": ""
             }
            },
            "type": "scattergeo"
           }
          ],
          "scattergl": [
           {
            "marker": {
             "colorbar": {
              "outlinewidth": 0,
              "ticks": ""
             }
            },
            "type": "scattergl"
           }
          ],
          "scattermapbox": [
           {
            "marker": {
             "colorbar": {
              "outlinewidth": 0,
              "ticks": ""
             }
            },
            "type": "scattermapbox"
           }
          ],
          "scatterpolar": [
           {
            "marker": {
             "colorbar": {
              "outlinewidth": 0,
              "ticks": ""
             }
            },
            "type": "scatterpolar"
           }
          ],
          "scatterpolargl": [
           {
            "marker": {
             "colorbar": {
              "outlinewidth": 0,
              "ticks": ""
             }
            },
            "type": "scatterpolargl"
           }
          ],
          "scatterternary": [
           {
            "marker": {
             "colorbar": {
              "outlinewidth": 0,
              "ticks": ""
             }
            },
            "type": "scatterternary"
           }
          ],
          "surface": [
           {
            "colorbar": {
             "outlinewidth": 0,
             "ticks": ""
            },
            "colorscale": [
             [
              0,
              "#0d0887"
             ],
             [
              0.1111111111111111,
              "#46039f"
             ],
             [
              0.2222222222222222,
              "#7201a8"
             ],
             [
              0.3333333333333333,
              "#9c179e"
             ],
             [
              0.4444444444444444,
              "#bd3786"
             ],
             [
              0.5555555555555556,
              "#d8576b"
             ],
             [
              0.6666666666666666,
              "#ed7953"
             ],
             [
              0.7777777777777778,
              "#fb9f3a"
             ],
             [
              0.8888888888888888,
              "#fdca26"
             ],
             [
              1,
              "#f0f921"
             ]
            ],
            "type": "surface"
           }
          ],
          "table": [
           {
            "cells": {
             "fill": {
              "color": "#EBF0F8"
             },
             "line": {
              "color": "white"
             }
            },
            "header": {
             "fill": {
              "color": "#C8D4E3"
             },
             "line": {
              "color": "white"
             }
            },
            "type": "table"
           }
          ]
         },
         "layout": {
          "annotationdefaults": {
           "arrowcolor": "#2a3f5f",
           "arrowhead": 0,
           "arrowwidth": 1
          },
          "autotypenumbers": "strict",
          "coloraxis": {
           "colorbar": {
            "outlinewidth": 0,
            "ticks": ""
           }
          },
          "colorscale": {
           "diverging": [
            [
             0,
             "#8e0152"
            ],
            [
             0.1,
             "#c51b7d"
            ],
            [
             0.2,
             "#de77ae"
            ],
            [
             0.3,
             "#f1b6da"
            ],
            [
             0.4,
             "#fde0ef"
            ],
            [
             0.5,
             "#f7f7f7"
            ],
            [
             0.6,
             "#e6f5d0"
            ],
            [
             0.7,
             "#b8e186"
            ],
            [
             0.8,
             "#7fbc41"
            ],
            [
             0.9,
             "#4d9221"
            ],
            [
             1,
             "#276419"
            ]
           ],
           "sequential": [
            [
             0,
             "#0d0887"
            ],
            [
             0.1111111111111111,
             "#46039f"
            ],
            [
             0.2222222222222222,
             "#7201a8"
            ],
            [
             0.3333333333333333,
             "#9c179e"
            ],
            [
             0.4444444444444444,
             "#bd3786"
            ],
            [
             0.5555555555555556,
             "#d8576b"
            ],
            [
             0.6666666666666666,
             "#ed7953"
            ],
            [
             0.7777777777777778,
             "#fb9f3a"
            ],
            [
             0.8888888888888888,
             "#fdca26"
            ],
            [
             1,
             "#f0f921"
            ]
           ],
           "sequentialminus": [
            [
             0,
             "#0d0887"
            ],
            [
             0.1111111111111111,
             "#46039f"
            ],
            [
             0.2222222222222222,
             "#7201a8"
            ],
            [
             0.3333333333333333,
             "#9c179e"
            ],
            [
             0.4444444444444444,
             "#bd3786"
            ],
            [
             0.5555555555555556,
             "#d8576b"
            ],
            [
             0.6666666666666666,
             "#ed7953"
            ],
            [
             0.7777777777777778,
             "#fb9f3a"
            ],
            [
             0.8888888888888888,
             "#fdca26"
            ],
            [
             1,
             "#f0f921"
            ]
           ]
          },
          "colorway": [
           "#636efa",
           "#EF553B",
           "#00cc96",
           "#ab63fa",
           "#FFA15A",
           "#19d3f3",
           "#FF6692",
           "#B6E880",
           "#FF97FF",
           "#FECB52"
          ],
          "font": {
           "color": "#2a3f5f"
          },
          "geo": {
           "bgcolor": "white",
           "lakecolor": "white",
           "landcolor": "#E5ECF6",
           "showlakes": true,
           "showland": true,
           "subunitcolor": "white"
          },
          "hoverlabel": {
           "align": "left"
          },
          "hovermode": "closest",
          "mapbox": {
           "style": "light"
          },
          "paper_bgcolor": "white",
          "plot_bgcolor": "#E5ECF6",
          "polar": {
           "angularaxis": {
            "gridcolor": "white",
            "linecolor": "white",
            "ticks": ""
           },
           "bgcolor": "#E5ECF6",
           "radialaxis": {
            "gridcolor": "white",
            "linecolor": "white",
            "ticks": ""
           }
          },
          "scene": {
           "xaxis": {
            "backgroundcolor": "#E5ECF6",
            "gridcolor": "white",
            "gridwidth": 2,
            "linecolor": "white",
            "showbackground": true,
            "ticks": "",
            "zerolinecolor": "white"
           },
           "yaxis": {
            "backgroundcolor": "#E5ECF6",
            "gridcolor": "white",
            "gridwidth": 2,
            "linecolor": "white",
            "showbackground": true,
            "ticks": "",
            "zerolinecolor": "white"
           },
           "zaxis": {
            "backgroundcolor": "#E5ECF6",
            "gridcolor": "white",
            "gridwidth": 2,
            "linecolor": "white",
            "showbackground": true,
            "ticks": "",
            "zerolinecolor": "white"
           }
          },
          "shapedefaults": {
           "line": {
            "color": "#2a3f5f"
           }
          },
          "ternary": {
           "aaxis": {
            "gridcolor": "white",
            "linecolor": "white",
            "ticks": ""
           },
           "baxis": {
            "gridcolor": "white",
            "linecolor": "white",
            "ticks": ""
           },
           "bgcolor": "#E5ECF6",
           "caxis": {
            "gridcolor": "white",
            "linecolor": "white",
            "ticks": ""
           }
          },
          "title": {
           "x": 0.05
          },
          "xaxis": {
           "automargin": true,
           "gridcolor": "white",
           "linecolor": "white",
           "ticks": "",
           "title": {
            "standoff": 15
           },
           "zerolinecolor": "white",
           "zerolinewidth": 2
          },
          "yaxis": {
           "automargin": true,
           "gridcolor": "white",
           "linecolor": "white",
           "ticks": "",
           "title": {
            "standoff": 15
           },
           "zerolinecolor": "white",
           "zerolinewidth": 2
          }
         }
        },
        "xaxis": {
         "anchor": "y",
         "domain": [
          0,
          1
         ],
         "dtick": 1,
         "tick0": 1,
         "tickmode": "linear",
         "title": {
          "text": "Date"
         }
        },
        "yaxis": {
         "anchor": "x",
         "domain": [
          0,
          1
         ],
         "title": {
          "text": "Temperature"
         }
        }
       }
      },
      "text/html": [
       "<div>                            <div id=\"1776f542-dc5e-4d42-b219-00b5fa6e726f\" class=\"plotly-graph-div\" style=\"height:525px; width:100%;\"></div>            <script type=\"text/javascript\">                require([\"plotly\"], function(Plotly) {                    window.PLOTLYENV=window.PLOTLYENV || {};                                    if (document.getElementById(\"1776f542-dc5e-4d42-b219-00b5fa6e726f\")) {                    Plotly.newPlot(                        \"1776f542-dc5e-4d42-b219-00b5fa6e726f\",                        [{\"hovertemplate\":\"x=%{x}<br>y=%{y}<extra></extra>\",\"legendgroup\":\"\",\"line\":{\"color\":\"#636efa\",\"dash\":\"solid\"},\"marker\":{\"symbol\":\"circle\"},\"mode\":\"lines\",\"name\":\"\",\"orientation\":\"v\",\"showlegend\":false,\"x\":[1,2,3,4,5,6,7,8,9,10,11,12,13,14,15,16,17,18,19,20,21,22,23,24,25,26,27,28,29,30,31],\"xaxis\":\"x\",\"y\":[61.89328148586739,64.23040542769473,62.449681382668594,65.34929844909566,59.97416204422411,51.83774267312879,60.61928299277055,60.523754626444216,62.44409843553341,65.3413061440196,58.428834566857844,56.079954086607465,54.13317387846227,49.7331686594772,51.76669601539662,56.50259100354322,63.27734258467066,62.23778384337599,63.93618880542978,57.270545595430626,54.22652644515514,58.2373412002297,59.72859216946998,58.544925073713266,60.41278536093727,57.73251017127417,45.93031272730544,34.777468385658054,44.01690992843571,53.20340490141309,55.916618161688845],\"yaxis\":\"y\",\"type\":\"scatter\"}],                        {\"legend\":{\"tracegroupgap\":0},\"margin\":{\"t\":60},\"template\":{\"data\":{\"barpolar\":[{\"marker\":{\"line\":{\"color\":\"#E5ECF6\",\"width\":0.5},\"pattern\":{\"fillmode\":\"overlay\",\"size\":10,\"solidity\":0.2}},\"type\":\"barpolar\"}],\"bar\":[{\"error_x\":{\"color\":\"#2a3f5f\"},\"error_y\":{\"color\":\"#2a3f5f\"},\"marker\":{\"line\":{\"color\":\"#E5ECF6\",\"width\":0.5},\"pattern\":{\"fillmode\":\"overlay\",\"size\":10,\"solidity\":0.2}},\"type\":\"bar\"}],\"carpet\":[{\"aaxis\":{\"endlinecolor\":\"#2a3f5f\",\"gridcolor\":\"white\",\"linecolor\":\"white\",\"minorgridcolor\":\"white\",\"startlinecolor\":\"#2a3f5f\"},\"baxis\":{\"endlinecolor\":\"#2a3f5f\",\"gridcolor\":\"white\",\"linecolor\":\"white\",\"minorgridcolor\":\"white\",\"startlinecolor\":\"#2a3f5f\"},\"type\":\"carpet\"}],\"choropleth\":[{\"colorbar\":{\"outlinewidth\":0,\"ticks\":\"\"},\"type\":\"choropleth\"}],\"contourcarpet\":[{\"colorbar\":{\"outlinewidth\":0,\"ticks\":\"\"},\"type\":\"contourcarpet\"}],\"contour\":[{\"colorbar\":{\"outlinewidth\":0,\"ticks\":\"\"},\"colorscale\":[[0.0,\"#0d0887\"],[0.1111111111111111,\"#46039f\"],[0.2222222222222222,\"#7201a8\"],[0.3333333333333333,\"#9c179e\"],[0.4444444444444444,\"#bd3786\"],[0.5555555555555556,\"#d8576b\"],[0.6666666666666666,\"#ed7953\"],[0.7777777777777778,\"#fb9f3a\"],[0.8888888888888888,\"#fdca26\"],[1.0,\"#f0f921\"]],\"type\":\"contour\"}],\"heatmapgl\":[{\"colorbar\":{\"outlinewidth\":0,\"ticks\":\"\"},\"colorscale\":[[0.0,\"#0d0887\"],[0.1111111111111111,\"#46039f\"],[0.2222222222222222,\"#7201a8\"],[0.3333333333333333,\"#9c179e\"],[0.4444444444444444,\"#bd3786\"],[0.5555555555555556,\"#d8576b\"],[0.6666666666666666,\"#ed7953\"],[0.7777777777777778,\"#fb9f3a\"],[0.8888888888888888,\"#fdca26\"],[1.0,\"#f0f921\"]],\"type\":\"heatmapgl\"}],\"heatmap\":[{\"colorbar\":{\"outlinewidth\":0,\"ticks\":\"\"},\"colorscale\":[[0.0,\"#0d0887\"],[0.1111111111111111,\"#46039f\"],[0.2222222222222222,\"#7201a8\"],[0.3333333333333333,\"#9c179e\"],[0.4444444444444444,\"#bd3786\"],[0.5555555555555556,\"#d8576b\"],[0.6666666666666666,\"#ed7953\"],[0.7777777777777778,\"#fb9f3a\"],[0.8888888888888888,\"#fdca26\"],[1.0,\"#f0f921\"]],\"type\":\"heatmap\"}],\"histogram2dcontour\":[{\"colorbar\":{\"outlinewidth\":0,\"ticks\":\"\"},\"colorscale\":[[0.0,\"#0d0887\"],[0.1111111111111111,\"#46039f\"],[0.2222222222222222,\"#7201a8\"],[0.3333333333333333,\"#9c179e\"],[0.4444444444444444,\"#bd3786\"],[0.5555555555555556,\"#d8576b\"],[0.6666666666666666,\"#ed7953\"],[0.7777777777777778,\"#fb9f3a\"],[0.8888888888888888,\"#fdca26\"],[1.0,\"#f0f921\"]],\"type\":\"histogram2dcontour\"}],\"histogram2d\":[{\"colorbar\":{\"outlinewidth\":0,\"ticks\":\"\"},\"colorscale\":[[0.0,\"#0d0887\"],[0.1111111111111111,\"#46039f\"],[0.2222222222222222,\"#7201a8\"],[0.3333333333333333,\"#9c179e\"],[0.4444444444444444,\"#bd3786\"],[0.5555555555555556,\"#d8576b\"],[0.6666666666666666,\"#ed7953\"],[0.7777777777777778,\"#fb9f3a\"],[0.8888888888888888,\"#fdca26\"],[1.0,\"#f0f921\"]],\"type\":\"histogram2d\"}],\"histogram\":[{\"marker\":{\"pattern\":{\"fillmode\":\"overlay\",\"size\":10,\"solidity\":0.2}},\"type\":\"histogram\"}],\"mesh3d\":[{\"colorbar\":{\"outlinewidth\":0,\"ticks\":\"\"},\"type\":\"mesh3d\"}],\"parcoords\":[{\"line\":{\"colorbar\":{\"outlinewidth\":0,\"ticks\":\"\"}},\"type\":\"parcoords\"}],\"pie\":[{\"automargin\":true,\"type\":\"pie\"}],\"scatter3d\":[{\"line\":{\"colorbar\":{\"outlinewidth\":0,\"ticks\":\"\"}},\"marker\":{\"colorbar\":{\"outlinewidth\":0,\"ticks\":\"\"}},\"type\":\"scatter3d\"}],\"scattercarpet\":[{\"marker\":{\"colorbar\":{\"outlinewidth\":0,\"ticks\":\"\"}},\"type\":\"scattercarpet\"}],\"scattergeo\":[{\"marker\":{\"colorbar\":{\"outlinewidth\":0,\"ticks\":\"\"}},\"type\":\"scattergeo\"}],\"scattergl\":[{\"marker\":{\"colorbar\":{\"outlinewidth\":0,\"ticks\":\"\"}},\"type\":\"scattergl\"}],\"scattermapbox\":[{\"marker\":{\"colorbar\":{\"outlinewidth\":0,\"ticks\":\"\"}},\"type\":\"scattermapbox\"}],\"scatterpolargl\":[{\"marker\":{\"colorbar\":{\"outlinewidth\":0,\"ticks\":\"\"}},\"type\":\"scatterpolargl\"}],\"scatterpolar\":[{\"marker\":{\"colorbar\":{\"outlinewidth\":0,\"ticks\":\"\"}},\"type\":\"scatterpolar\"}],\"scatter\":[{\"marker\":{\"colorbar\":{\"outlinewidth\":0,\"ticks\":\"\"}},\"type\":\"scatter\"}],\"scatterternary\":[{\"marker\":{\"colorbar\":{\"outlinewidth\":0,\"ticks\":\"\"}},\"type\":\"scatterternary\"}],\"surface\":[{\"colorbar\":{\"outlinewidth\":0,\"ticks\":\"\"},\"colorscale\":[[0.0,\"#0d0887\"],[0.1111111111111111,\"#46039f\"],[0.2222222222222222,\"#7201a8\"],[0.3333333333333333,\"#9c179e\"],[0.4444444444444444,\"#bd3786\"],[0.5555555555555556,\"#d8576b\"],[0.6666666666666666,\"#ed7953\"],[0.7777777777777778,\"#fb9f3a\"],[0.8888888888888888,\"#fdca26\"],[1.0,\"#f0f921\"]],\"type\":\"surface\"}],\"table\":[{\"cells\":{\"fill\":{\"color\":\"#EBF0F8\"},\"line\":{\"color\":\"white\"}},\"header\":{\"fill\":{\"color\":\"#C8D4E3\"},\"line\":{\"color\":\"white\"}},\"type\":\"table\"}]},\"layout\":{\"annotationdefaults\":{\"arrowcolor\":\"#2a3f5f\",\"arrowhead\":0,\"arrowwidth\":1},\"autotypenumbers\":\"strict\",\"coloraxis\":{\"colorbar\":{\"outlinewidth\":0,\"ticks\":\"\"}},\"colorscale\":{\"diverging\":[[0,\"#8e0152\"],[0.1,\"#c51b7d\"],[0.2,\"#de77ae\"],[0.3,\"#f1b6da\"],[0.4,\"#fde0ef\"],[0.5,\"#f7f7f7\"],[0.6,\"#e6f5d0\"],[0.7,\"#b8e186\"],[0.8,\"#7fbc41\"],[0.9,\"#4d9221\"],[1,\"#276419\"]],\"sequential\":[[0.0,\"#0d0887\"],[0.1111111111111111,\"#46039f\"],[0.2222222222222222,\"#7201a8\"],[0.3333333333333333,\"#9c179e\"],[0.4444444444444444,\"#bd3786\"],[0.5555555555555556,\"#d8576b\"],[0.6666666666666666,\"#ed7953\"],[0.7777777777777778,\"#fb9f3a\"],[0.8888888888888888,\"#fdca26\"],[1.0,\"#f0f921\"]],\"sequentialminus\":[[0.0,\"#0d0887\"],[0.1111111111111111,\"#46039f\"],[0.2222222222222222,\"#7201a8\"],[0.3333333333333333,\"#9c179e\"],[0.4444444444444444,\"#bd3786\"],[0.5555555555555556,\"#d8576b\"],[0.6666666666666666,\"#ed7953\"],[0.7777777777777778,\"#fb9f3a\"],[0.8888888888888888,\"#fdca26\"],[1.0,\"#f0f921\"]]},\"colorway\":[\"#636efa\",\"#EF553B\",\"#00cc96\",\"#ab63fa\",\"#FFA15A\",\"#19d3f3\",\"#FF6692\",\"#B6E880\",\"#FF97FF\",\"#FECB52\"],\"font\":{\"color\":\"#2a3f5f\"},\"geo\":{\"bgcolor\":\"white\",\"lakecolor\":\"white\",\"landcolor\":\"#E5ECF6\",\"showlakes\":true,\"showland\":true,\"subunitcolor\":\"white\"},\"hoverlabel\":{\"align\":\"left\"},\"hovermode\":\"closest\",\"mapbox\":{\"style\":\"light\"},\"paper_bgcolor\":\"white\",\"plot_bgcolor\":\"#E5ECF6\",\"polar\":{\"angularaxis\":{\"gridcolor\":\"white\",\"linecolor\":\"white\",\"ticks\":\"\"},\"bgcolor\":\"#E5ECF6\",\"radialaxis\":{\"gridcolor\":\"white\",\"linecolor\":\"white\",\"ticks\":\"\"}},\"scene\":{\"xaxis\":{\"backgroundcolor\":\"#E5ECF6\",\"gridcolor\":\"white\",\"gridwidth\":2,\"linecolor\":\"white\",\"showbackground\":true,\"ticks\":\"\",\"zerolinecolor\":\"white\"},\"yaxis\":{\"backgroundcolor\":\"#E5ECF6\",\"gridcolor\":\"white\",\"gridwidth\":2,\"linecolor\":\"white\",\"showbackground\":true,\"ticks\":\"\",\"zerolinecolor\":\"white\"},\"zaxis\":{\"backgroundcolor\":\"#E5ECF6\",\"gridcolor\":\"white\",\"gridwidth\":2,\"linecolor\":\"white\",\"showbackground\":true,\"ticks\":\"\",\"zerolinecolor\":\"white\"}},\"shapedefaults\":{\"line\":{\"color\":\"#2a3f5f\"}},\"ternary\":{\"aaxis\":{\"gridcolor\":\"white\",\"linecolor\":\"white\",\"ticks\":\"\"},\"baxis\":{\"gridcolor\":\"white\",\"linecolor\":\"white\",\"ticks\":\"\"},\"bgcolor\":\"#E5ECF6\",\"caxis\":{\"gridcolor\":\"white\",\"linecolor\":\"white\",\"ticks\":\"\"}},\"title\":{\"x\":0.05},\"xaxis\":{\"automargin\":true,\"gridcolor\":\"white\",\"linecolor\":\"white\",\"ticks\":\"\",\"title\":{\"standoff\":15},\"zerolinecolor\":\"white\",\"zerolinewidth\":2},\"yaxis\":{\"automargin\":true,\"gridcolor\":\"white\",\"linecolor\":\"white\",\"ticks\":\"\",\"title\":{\"standoff\":15},\"zerolinecolor\":\"white\",\"zerolinewidth\":2}}},\"xaxis\":{\"anchor\":\"y\",\"domain\":[0.0,1.0],\"title\":{\"text\":\"Date\"},\"tickmode\":\"linear\",\"tick0\":1,\"dtick\":1},\"yaxis\":{\"anchor\":\"x\",\"domain\":[0.0,1.0],\"title\":{\"text\":\"Temperature\"}}},                        {\"responsive\": true}                    ).then(function(){\n",
       "                            \n",
       "var gd = document.getElementById('1776f542-dc5e-4d42-b219-00b5fa6e726f');\n",
       "var x = new MutationObserver(function (mutations, observer) {{\n",
       "        var display = window.getComputedStyle(gd).display;\n",
       "        if (!display || display === 'none') {{\n",
       "            console.log([gd, 'removed!']);\n",
       "            Plotly.purge(gd);\n",
       "            observer.disconnect();\n",
       "        }}\n",
       "}});\n",
       "\n",
       "// Listen for the removal of the full notebook cells\n",
       "var notebookContainer = gd.closest('#notebook-container');\n",
       "if (notebookContainer) {{\n",
       "    x.observe(notebookContainer, {childList: true});\n",
       "}}\n",
       "\n",
       "// Listen for the clearing of the current output cell\n",
       "var outputEl = gd.closest('.output');\n",
       "if (outputEl) {{\n",
       "    x.observe(outputEl, {childList: true});\n",
       "}}\n",
       "\n",
       "                        })                };                });            </script>        </div>"
      ]
     },
     "metadata": {},
     "output_type": "display_data"
    }
   ],
   "source": [
    "import plotly.express as px\n",
    "import plotly.graph_objects as go\n",
    "fig = go.Figure(px.line(x = days, y=temp_estimates)).update_layout(\n",
    "    xaxis_title=\"Date\", yaxis_title=\"Temperature\"\n",
    ")\n",
    "fig.update_layout(\n",
    "   xaxis = dict(\n",
    "      tickmode = 'linear',\n",
    "      tick0 = 1,\n",
    "      dtick = 1\n",
    "   ))\n",
    "\n",
    "fig.show()"
   ]
  },
  {
   "cell_type": "code",
   "execution_count": null,
   "id": "45d7229a",
   "metadata": {},
   "outputs": [],
   "source": []
  }
 ],
 "metadata": {
  "kernelspec": {
   "display_name": "Python 3",
   "language": "python",
   "name": "python3"
  },
  "language_info": {
   "codemirror_mode": {
    "name": "ipython",
    "version": 3
   },
   "file_extension": ".py",
   "mimetype": "text/x-python",
   "name": "python",
   "nbconvert_exporter": "python",
   "pygments_lexer": "ipython3",
   "version": "3.8.8"
  }
 },
 "nbformat": 4,
 "nbformat_minor": 5
}
